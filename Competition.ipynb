{
 "cells": [
  {
   "cell_type": "code",
   "execution_count": 1,
   "metadata": {
    "collapsed": false
   },
   "outputs": [],
   "source": [
    "import numpy as np\n",
    "import pandas as pd"
   ]
  },
  {
   "cell_type": "code",
   "execution_count": 8,
   "metadata": {
    "collapsed": true
   },
   "outputs": [],
   "source": [
    "data = np.load(\"train.npy\")"
   ]
  },
  {
   "cell_type": "code",
   "execution_count": null,
   "metadata": {
    "collapsed": false,
    "scrolled": true
   },
   "outputs": [],
   "source": [
    "X = []\n",
    "Y = []\n",
    "i = 0\n",
    "for elem in data:\n",
    "    if i % 1000 == 0:\n",
    "        print(i)\n",
    "    X.append(tf.resize(elem[0], output_shape=(40,40)))\n",
    "    Y.append(elem[1])\n",
    "    i += 1"
   ]
  },
  {
   "cell_type": "code",
   "execution_count": 12,
   "metadata": {
    "collapsed": true
   },
   "outputs": [],
   "source": [
    "np.save('X', X)"
   ]
  },
  {
   "cell_type": "code",
   "execution_count": 13,
   "metadata": {
    "collapsed": true
   },
   "outputs": [],
   "source": [
    "np.save('Y', Y)"
   ]
  },
  {
   "cell_type": "code",
   "execution_count": 29,
   "metadata": {
    "collapsed": false
   },
   "outputs": [],
   "source": [
    "X = np.array(X)\n",
    "Y = np.array(Y)"
   ]
  },
  {
   "cell_type": "code",
   "execution_count": 2,
   "metadata": {
    "collapsed": false
   },
   "outputs": [],
   "source": [
    "X = np.load(\"X.npy\")\n",
    "Y = np.load(\"Y.npy\")"
   ]
  },
  {
   "cell_type": "code",
   "execution_count": 3,
   "metadata": {
    "collapsed": false
   },
   "outputs": [],
   "source": [
    "X.resize((166708,40,40,1))"
   ]
  },
  {
   "cell_type": "code",
   "execution_count": 4,
   "metadata": {
    "collapsed": false
   },
   "outputs": [],
   "source": [
    "labels = np.unique(Y)\n",
    "labels = labels.tolist()"
   ]
  },
  {
   "cell_type": "code",
   "execution_count": 5,
   "metadata": {
    "collapsed": false
   },
   "outputs": [],
   "source": [
    "for i in range(len(Y)):\n",
    "    Y[i] = labels.index(Y[i])"
   ]
  },
  {
   "cell_type": "code",
   "execution_count": 28,
   "metadata": {
    "collapsed": false
   },
   "outputs": [],
   "source": [
    "X = X.astype(np.float16)\n",
    "Y = Y.astype(np.int16)"
   ]
  },
  {
   "cell_type": "code",
   "execution_count": 29,
   "metadata": {
    "collapsed": false
   },
   "outputs": [],
   "source": [
    "from sklearn.model_selection import train_test_split\n",
    "\n",
    "X_train, X_test, y_train, y_test = train_test_split(X, Y, test_size=0.2, random_state=42)"
   ]
  },
  {
   "cell_type": "code",
   "execution_count": null,
   "metadata": {
    "collapsed": false
   },
   "outputs": [],
   "source": [
    "from __future__ import print_function\n",
    "import numpy as np\n",
    "np.random.seed(1337)  # for reproducibility\n",
    "\n",
    "from keras.datasets import mnist\n",
    "from keras.models import Sequential\n",
    "from keras.layers import Dense, Dropout, Activation, Flatten\n",
    "from keras.layers import Convolution2D, MaxPooling2D\n",
    "from keras.layers.normalization import BatchNormalization\n",
    "from keras.utils import np_utils\n",
    "from keras import backend as K\n",
    "\n",
    "batch_size = 128\n",
    "nb_classes = 500\n",
    "nb_epoch = 10\n",
    "\n",
    "# size of pooling area for max pooling\n",
    "pool_size = (2, 2)\n",
    "# convolution kernel size\n",
    "kernel_size = (3, 3)\n",
    "\n",
    "input_shape = (40,40,1)\n",
    "\n",
    "Y_train = np_utils.to_categorical(y_train, nb_classes)\n",
    "Y_test = np_utils.to_categorical(y_test, nb_classes)\n",
    "\n",
    "model = Sequential()\n",
    "\n",
    "\n",
    "\n",
    "model.add(Convolution2D(80, kernel_size[0] + 2, kernel_size[1] + 2,\n",
    "                        border_mode='valid',\n",
    "                        input_shape=input_shape))\n",
    "model.add(Activation('relu'))\n",
    "model.add(MaxPooling2D(pool_size=pool_size, strides=(1,1)))\n",
    "\n",
    "\n",
    "\n",
    "model.add(Convolution2D(160, kernel_size[0], kernel_size[1]))\n",
    "model.add(Activation('relu'))\n",
    "model.add(MaxPooling2D(pool_size=pool_size, strides=(2,2)))\n",
    "          \n",
    "model.add(BatchNormalization())\n",
    "\n",
    "\n",
    "model.add(Convolution2D(240, kernel_size[0], kernel_size[1]))\n",
    "model.add(Activation('relu'))\n",
    "model.add(MaxPooling2D(pool_size=pool_size))\n",
    "\n",
    "\n",
    "model.add(Convolution2D(320, kernel_size[0], kernel_size[1]))\n",
    "model.add(Activation('relu'))\n",
    "model.add(MaxPooling2D(pool_size=pool_size))\n",
    "\n",
    "\n",
    "model.add(Convolution2D(350, kernel_size[0], kernel_size[3]))\n",
    "model.add(Activation('relu'))\n",
    "model.add(MaxPooling2D(pool_size=pool_size))\n",
    "\n",
    "\n",
    "model.add(Flatten())\n",
    "\n",
    "model.add(BatchNormalization())\n",
    "\n",
    "model.add(Dense(400))\n",
    "model.add(Activation('relu'))\n",
    "\n",
    "model.add(BatchNormalization())\n",
    "\n",
    "model.add(Dense(nb_classes))\n",
    "model.add(Activation('softmax'))\n",
    "\n",
    "model.compile(loss='categorical_crossentropy',\n",
    "              optimizer='adam',\n",
    "              metrics=['accuracy'])\n",
    "\n",
    "model.summary()\n",
    "\n",
    "model.fit(X_train, Y_train, batch_size=batch_size, nb_epoch=nb_epoch,\n",
    "          verbose=2, validation_data=(X_test, Y_test))\n",
    "score = model.evaluate(X_test, Y_test, verbose=0)\n",
    "print('Test score:', score[0])\n",
    "print('Test accuracy:', score[1])\n"
   ]
  },
  {
   "cell_type": "code",
   "execution_count": 10,
   "metadata": {
    "collapsed": true
   },
   "outputs": [],
   "source": [
    "from keras.models import load_model\n",
    "\n",
    "\n",
    "model = load_model(\"./Models Architecture/4 conv with maxpool and batchnorm V2\")"
   ]
  },
  {
   "cell_type": "code",
   "execution_count": 11,
   "metadata": {
    "collapsed": false
   },
   "outputs": [
    {
     "name": "stdout",
     "output_type": "stream",
     "text": [
      "Train on 166624 samples, validate on 84 samples\n",
      "Epoch 1/130\n",
      "210s - loss: 0.0115 - acc: 0.9966 - val_loss: 0.2137 - val_acc: 0.9762\n",
      "Epoch 2/130\n",
      "207s - loss: 0.0097 - acc: 0.9972 - val_loss: 0.1400 - val_acc: 0.9643\n",
      "Epoch 3/130\n",
      "207s - loss: 0.0123 - acc: 0.9962 - val_loss: 0.6234 - val_acc: 0.8929\n",
      "Epoch 4/130\n",
      "207s - loss: 0.0106 - acc: 0.9970 - val_loss: 0.2273 - val_acc: 0.9762\n",
      "Epoch 5/130\n",
      "207s - loss: 0.0102 - acc: 0.9969 - val_loss: 0.4955 - val_acc: 0.8929\n",
      "Epoch 6/130\n",
      "206s - loss: 0.0104 - acc: 0.9970 - val_loss: 0.2571 - val_acc: 0.9524\n",
      "Epoch 7/130\n",
      "206s - loss: 0.0095 - acc: 0.9973 - val_loss: 0.2379 - val_acc: 0.9524\n",
      "Epoch 8/130\n",
      "206s - loss: 0.0102 - acc: 0.9970 - val_loss: 0.2432 - val_acc: 0.9762\n",
      "Epoch 9/130\n",
      "206s - loss: 0.0101 - acc: 0.9971 - val_loss: 0.3745 - val_acc: 0.9524\n",
      "Epoch 10/130\n",
      "206s - loss: 0.0088 - acc: 0.9975 - val_loss: 0.2574 - val_acc: 0.9405\n",
      "Epoch 11/130\n",
      "206s - loss: 0.0098 - acc: 0.9971 - val_loss: 0.1301 - val_acc: 0.9881\n",
      "Epoch 12/130\n",
      "206s - loss: 0.0083 - acc: 0.9977 - val_loss: 0.1990 - val_acc: 0.9643\n",
      "Epoch 13/130\n",
      "206s - loss: 0.0087 - acc: 0.9974 - val_loss: 0.1789 - val_acc: 0.9643\n",
      "Epoch 14/130\n",
      "206s - loss: 0.0096 - acc: 0.9973 - val_loss: 0.2895 - val_acc: 0.9524\n",
      "Epoch 15/130\n",
      "206s - loss: 0.0086 - acc: 0.9976 - val_loss: 0.2589 - val_acc: 0.9524\n",
      "Epoch 16/130\n",
      "206s - loss: 0.0092 - acc: 0.9972 - val_loss: 0.1445 - val_acc: 0.9524\n",
      "Epoch 17/130\n",
      "206s - loss: 0.0079 - acc: 0.9979 - val_loss: 0.4844 - val_acc: 0.9167\n",
      "Epoch 18/130\n",
      "206s - loss: 0.0094 - acc: 0.9972 - val_loss: 0.1480 - val_acc: 0.9643\n",
      "Epoch 19/130\n",
      "206s - loss: 0.0075 - acc: 0.9978 - val_loss: 0.2794 - val_acc: 0.9405\n",
      "Epoch 20/130\n",
      "206s - loss: 0.0085 - acc: 0.9977 - val_loss: 0.4936 - val_acc: 0.9167\n",
      "Epoch 21/130\n",
      "206s - loss: 0.0088 - acc: 0.9973 - val_loss: 0.2193 - val_acc: 0.9405\n",
      "Epoch 22/130\n",
      "206s - loss: 0.0069 - acc: 0.9982 - val_loss: 0.1925 - val_acc: 0.9762\n",
      "Epoch 23/130\n",
      "206s - loss: 0.0082 - acc: 0.9975 - val_loss: 0.1478 - val_acc: 0.9881\n",
      "Epoch 24/130\n",
      "206s - loss: 0.0092 - acc: 0.9973 - val_loss: 0.1090 - val_acc: 0.9762\n",
      "Epoch 25/130\n",
      "206s - loss: 0.0072 - acc: 0.9979 - val_loss: 0.3962 - val_acc: 0.9524\n",
      "Epoch 26/130\n",
      "206s - loss: 0.0071 - acc: 0.9981 - val_loss: 0.2152 - val_acc: 0.9643\n",
      "Epoch 27/130\n",
      "206s - loss: 0.0090 - acc: 0.9974 - val_loss: 0.2714 - val_acc: 0.9524\n",
      "Epoch 28/130\n",
      "206s - loss: 0.0074 - acc: 0.9977 - val_loss: 0.1957 - val_acc: 0.9762\n",
      "Epoch 29/130\n",
      "206s - loss: 0.0066 - acc: 0.9982 - val_loss: 0.3193 - val_acc: 0.9286\n",
      "Epoch 30/130\n",
      "206s - loss: 0.0074 - acc: 0.9981 - val_loss: 0.2258 - val_acc: 0.9643\n",
      "Epoch 31/130\n",
      "206s - loss: 0.0083 - acc: 0.9976 - val_loss: 0.2587 - val_acc: 0.9524\n",
      "Epoch 32/130\n",
      "206s - loss: 0.0068 - acc: 0.9981 - val_loss: 0.2625 - val_acc: 0.9643\n",
      "Epoch 33/130\n",
      "206s - loss: 0.0070 - acc: 0.9980 - val_loss: 0.3234 - val_acc: 0.9405\n",
      "Epoch 34/130\n",
      "206s - loss: 0.0066 - acc: 0.9981 - val_loss: 0.2926 - val_acc: 0.9643\n",
      "Epoch 35/130\n",
      "206s - loss: 0.0079 - acc: 0.9978 - val_loss: 0.5705 - val_acc: 0.9286\n",
      "Epoch 36/130\n",
      "206s - loss: 0.0072 - acc: 0.9981 - val_loss: 0.1246 - val_acc: 0.9643\n",
      "Epoch 37/130\n",
      "206s - loss: 0.0064 - acc: 0.9982 - val_loss: 0.2406 - val_acc: 0.9762\n",
      "Epoch 38/130\n",
      "206s - loss: 0.0067 - acc: 0.9982 - val_loss: 0.1287 - val_acc: 0.9881\n",
      "Epoch 39/130\n",
      "206s - loss: 0.0069 - acc: 0.9981 - val_loss: 0.1976 - val_acc: 0.9524\n",
      "Epoch 40/130\n",
      "206s - loss: 0.0070 - acc: 0.9980 - val_loss: 0.0639 - val_acc: 0.9881\n",
      "Epoch 41/130\n",
      "206s - loss: 0.0062 - acc: 0.9983 - val_loss: 0.2271 - val_acc: 0.9524\n",
      "Epoch 42/130\n",
      "206s - loss: 0.0062 - acc: 0.9983 - val_loss: 0.4779 - val_acc: 0.9286\n",
      "Epoch 43/130\n",
      "206s - loss: 0.0068 - acc: 0.9981 - val_loss: 0.2090 - val_acc: 0.9643\n",
      "Epoch 44/130\n",
      "206s - loss: 0.0064 - acc: 0.9982 - val_loss: 0.0915 - val_acc: 0.9643\n",
      "Epoch 45/130\n",
      "206s - loss: 0.0066 - acc: 0.9982 - val_loss: 0.2702 - val_acc: 0.9762\n",
      "Epoch 46/130\n",
      "206s - loss: 0.0077 - acc: 0.9979 - val_loss: 0.0603 - val_acc: 0.9762\n",
      "Epoch 47/130\n",
      "206s - loss: 0.0064 - acc: 0.9983 - val_loss: 0.1307 - val_acc: 0.9881\n",
      "Epoch 48/130\n",
      "206s - loss: 0.0068 - acc: 0.9982 - val_loss: 0.2993 - val_acc: 0.9524\n",
      "Epoch 49/130\n",
      "206s - loss: 0.0055 - acc: 0.9986 - val_loss: 0.2369 - val_acc: 0.9643\n",
      "Epoch 50/130\n",
      "206s - loss: 0.0065 - acc: 0.9982 - val_loss: 0.1636 - val_acc: 0.9524\n",
      "Epoch 51/130\n",
      "206s - loss: 0.0059 - acc: 0.9984 - val_loss: 0.0908 - val_acc: 0.9643\n",
      "Epoch 52/130\n",
      "206s - loss: 0.0058 - acc: 0.9984 - val_loss: 0.1692 - val_acc: 0.9524\n",
      "Epoch 53/130\n",
      "206s - loss: 0.0061 - acc: 0.9984 - val_loss: 0.1504 - val_acc: 0.9643\n",
      "Epoch 54/130\n",
      "206s - loss: 0.0060 - acc: 0.9984 - val_loss: 0.2250 - val_acc: 0.9643\n",
      "Epoch 55/130\n",
      "206s - loss: 0.0069 - acc: 0.9981 - val_loss: 0.1669 - val_acc: 0.9405\n",
      "Epoch 56/130\n",
      "206s - loss: 0.0059 - acc: 0.9984 - val_loss: 0.1977 - val_acc: 0.9881\n",
      "Epoch 57/130\n",
      "206s - loss: 0.0062 - acc: 0.9983 - val_loss: 0.2024 - val_acc: 0.9643\n",
      "Epoch 58/130\n",
      "206s - loss: 0.0054 - acc: 0.9987 - val_loss: 0.2950 - val_acc: 0.9405\n",
      "Epoch 59/130\n",
      "206s - loss: 0.0069 - acc: 0.9981 - val_loss: 0.2371 - val_acc: 0.9524\n",
      "Epoch 60/130\n",
      "206s - loss: 0.0056 - acc: 0.9985 - val_loss: 0.3178 - val_acc: 0.9405\n",
      "Epoch 61/130\n",
      "206s - loss: 0.0059 - acc: 0.9984 - val_loss: 0.1698 - val_acc: 0.9762\n",
      "Epoch 62/130\n",
      "206s - loss: 0.0054 - acc: 0.9987 - val_loss: 0.2761 - val_acc: 0.9524\n",
      "Epoch 63/130\n",
      "206s - loss: 0.0074 - acc: 0.9980 - val_loss: 0.2876 - val_acc: 0.9405\n",
      "Epoch 64/130\n",
      "206s - loss: 0.0045 - acc: 0.9989 - val_loss: 0.1534 - val_acc: 0.9643\n",
      "Epoch 65/130\n",
      "206s - loss: 0.0057 - acc: 0.9985 - val_loss: 0.0924 - val_acc: 0.9643\n",
      "Epoch 66/130\n",
      "206s - loss: 0.0052 - acc: 0.9987 - val_loss: 0.4616 - val_acc: 0.9405\n",
      "Epoch 67/130\n",
      "206s - loss: 0.0058 - acc: 0.9984 - val_loss: 0.1212 - val_acc: 0.9881\n",
      "Epoch 68/130\n",
      "206s - loss: 0.0057 - acc: 0.9985 - val_loss: 0.1491 - val_acc: 0.9762\n",
      "Epoch 69/130\n",
      "206s - loss: 0.0058 - acc: 0.9985 - val_loss: 0.0349 - val_acc: 0.9881\n",
      "Epoch 70/130\n",
      "206s - loss: 0.0058 - acc: 0.9985 - val_loss: 0.1522 - val_acc: 0.9643\n",
      "Epoch 71/130\n",
      "206s - loss: 0.0056 - acc: 0.9985 - val_loss: 0.0331 - val_acc: 0.9881\n",
      "Epoch 72/130\n",
      "206s - loss: 0.0044 - acc: 0.9990 - val_loss: 0.2341 - val_acc: 0.9405\n",
      "Epoch 73/130\n",
      "206s - loss: 0.0063 - acc: 0.9983 - val_loss: 0.0828 - val_acc: 0.9762\n",
      "Epoch 74/130\n",
      "206s - loss: 0.0052 - acc: 0.9985 - val_loss: 0.1182 - val_acc: 0.9643\n",
      "Epoch 75/130\n",
      "206s - loss: 0.0050 - acc: 0.9988 - val_loss: 0.0306 - val_acc: 0.9881\n",
      "Epoch 76/130\n",
      "206s - loss: 0.0054 - acc: 0.9986 - val_loss: 0.2109 - val_acc: 0.9524\n",
      "Epoch 77/130\n",
      "206s - loss: 0.0064 - acc: 0.9983 - val_loss: 0.1065 - val_acc: 0.9762\n",
      "Epoch 78/130\n",
      "206s - loss: 0.0049 - acc: 0.9987 - val_loss: 0.1229 - val_acc: 0.9762\n",
      "Epoch 79/130\n",
      "206s - loss: 0.0049 - acc: 0.9989 - val_loss: 0.2746 - val_acc: 0.9643\n",
      "Epoch 80/130\n",
      "206s - loss: 0.0049 - acc: 0.9987 - val_loss: 0.1755 - val_acc: 0.9762\n",
      "Epoch 81/130\n",
      "206s - loss: 0.0054 - acc: 0.9986 - val_loss: 0.1875 - val_acc: 0.9643\n",
      "Epoch 82/130\n",
      "206s - loss: 0.0053 - acc: 0.9986 - val_loss: 0.2657 - val_acc: 0.9643\n",
      "Epoch 83/130\n",
      "206s - loss: 0.0057 - acc: 0.9985 - val_loss: 0.0867 - val_acc: 0.9762\n",
      "Epoch 84/130\n",
      "206s - loss: 0.0054 - acc: 0.9986 - val_loss: 0.0698 - val_acc: 0.9762\n",
      "Epoch 85/130\n",
      "206s - loss: 0.0042 - acc: 0.9989 - val_loss: 0.0781 - val_acc: 0.9762\n",
      "Epoch 86/130\n",
      "206s - loss: 0.0050 - acc: 0.9988 - val_loss: 0.2633 - val_acc: 0.9405\n",
      "Epoch 87/130\n",
      "206s - loss: 0.0052 - acc: 0.9986 - val_loss: 0.4404 - val_acc: 0.9405\n",
      "Epoch 88/130\n",
      "206s - loss: 0.0049 - acc: 0.9987 - val_loss: 0.0265 - val_acc: 0.9881\n",
      "Epoch 89/130\n",
      "206s - loss: 0.0045 - acc: 0.9989 - val_loss: 0.0702 - val_acc: 0.9762\n",
      "Epoch 90/130\n",
      "206s - loss: 0.0054 - acc: 0.9985 - val_loss: 0.1785 - val_acc: 0.9643\n",
      "Epoch 91/130\n",
      "206s - loss: 0.0050 - acc: 0.9987 - val_loss: 0.3384 - val_acc: 0.9167\n",
      "Epoch 92/130\n",
      "206s - loss: 0.0046 - acc: 0.9989 - val_loss: 0.2665 - val_acc: 0.9405\n",
      "Epoch 93/130\n",
      "206s - loss: 0.0042 - acc: 0.9990 - val_loss: 0.0657 - val_acc: 0.9881\n",
      "Epoch 94/130\n",
      "206s - loss: 0.0048 - acc: 0.9988 - val_loss: 0.2031 - val_acc: 0.9286\n",
      "Epoch 95/130\n",
      "206s - loss: 0.0056 - acc: 0.9985 - val_loss: 0.1330 - val_acc: 0.9762\n",
      "Epoch 96/130\n",
      "206s - loss: 0.0041 - acc: 0.9990 - val_loss: 0.0426 - val_acc: 0.9881\n",
      "Epoch 97/130\n",
      "206s - loss: 0.0056 - acc: 0.9985 - val_loss: 0.1126 - val_acc: 0.9762\n",
      "Epoch 98/130\n",
      "206s - loss: 0.0045 - acc: 0.9988 - val_loss: 0.0673 - val_acc: 0.9881\n",
      "Epoch 99/130\n",
      "206s - loss: 0.0047 - acc: 0.9988 - val_loss: 0.0805 - val_acc: 0.9762\n",
      "Epoch 100/130\n",
      "206s - loss: 0.0049 - acc: 0.9988 - val_loss: 0.1008 - val_acc: 0.9643\n",
      "Epoch 101/130\n",
      "206s - loss: 0.0041 - acc: 0.9990 - val_loss: 0.1607 - val_acc: 0.9524\n",
      "Epoch 102/130\n",
      "206s - loss: 0.0050 - acc: 0.9987 - val_loss: 0.1791 - val_acc: 0.9524\n",
      "Epoch 103/130\n",
      "206s - loss: 0.0044 - acc: 0.9989 - val_loss: 0.0746 - val_acc: 0.9643\n",
      "Epoch 104/130\n",
      "206s - loss: 0.0054 - acc: 0.9985 - val_loss: 0.2638 - val_acc: 0.9405\n",
      "Epoch 105/130\n",
      "206s - loss: 0.0044 - acc: 0.9990 - val_loss: 0.1847 - val_acc: 0.9762\n",
      "Epoch 106/130\n",
      "206s - loss: 0.0049 - acc: 0.9987 - val_loss: 0.0975 - val_acc: 0.9643\n",
      "Epoch 107/130\n",
      "206s - loss: 0.0051 - acc: 0.9986 - val_loss: 0.2011 - val_acc: 0.9524\n",
      "Epoch 108/130\n",
      "206s - loss: 0.0048 - acc: 0.9987 - val_loss: 0.1852 - val_acc: 0.9643\n",
      "Epoch 109/130\n",
      "206s - loss: 0.0040 - acc: 0.9991 - val_loss: 0.2447 - val_acc: 0.9405\n",
      "Epoch 110/130\n",
      "206s - loss: 0.0047 - acc: 0.9988 - val_loss: 0.2732 - val_acc: 0.9524\n",
      "Epoch 111/130\n",
      "206s - loss: 0.0049 - acc: 0.9988 - val_loss: 0.1215 - val_acc: 0.9643\n",
      "Epoch 112/130\n",
      "206s - loss: 0.0042 - acc: 0.9989 - val_loss: 0.2993 - val_acc: 0.9405\n",
      "Epoch 113/130\n",
      "206s - loss: 0.0047 - acc: 0.9988 - val_loss: 0.1594 - val_acc: 0.9643\n",
      "Epoch 114/130\n",
      "206s - loss: 0.0047 - acc: 0.9988 - val_loss: 0.1370 - val_acc: 0.9643\n",
      "Epoch 115/130\n",
      "206s - loss: 0.0047 - acc: 0.9988 - val_loss: 0.0862 - val_acc: 0.9643\n",
      "Epoch 116/130\n",
      "206s - loss: 0.0037 - acc: 0.9991 - val_loss: 0.3200 - val_acc: 0.9048\n",
      "Epoch 117/130\n",
      "206s - loss: 0.0044 - acc: 0.9989 - val_loss: 0.1383 - val_acc: 0.9762\n",
      "Epoch 118/130\n",
      "206s - loss: 0.0046 - acc: 0.9988 - val_loss: 0.1008 - val_acc: 0.9762\n",
      "Epoch 119/130\n",
      "206s - loss: 0.0046 - acc: 0.9988 - val_loss: 0.0642 - val_acc: 0.9762\n",
      "Epoch 120/130\n",
      "206s - loss: 0.0039 - acc: 0.9991 - val_loss: 0.2699 - val_acc: 0.9762\n",
      "Epoch 121/130\n",
      "206s - loss: 0.0041 - acc: 0.9991 - val_loss: 0.1230 - val_acc: 0.9762\n",
      "Epoch 122/130\n",
      "206s - loss: 0.0052 - acc: 0.9987 - val_loss: 0.0443 - val_acc: 0.9643\n",
      "Epoch 123/130\n",
      "206s - loss: 0.0045 - acc: 0.9989 - val_loss: 0.0649 - val_acc: 0.9524\n",
      "Epoch 124/130\n",
      "206s - loss: 0.0034 - acc: 0.9993 - val_loss: 0.0714 - val_acc: 0.9881\n",
      "Epoch 125/130\n",
      "206s - loss: 0.0048 - acc: 0.9987 - val_loss: 0.1738 - val_acc: 0.9524\n",
      "Epoch 126/130\n",
      "206s - loss: 0.0040 - acc: 0.9991 - val_loss: 0.1143 - val_acc: 0.9762\n",
      "Epoch 127/130\n",
      "206s - loss: 0.0038 - acc: 0.9991 - val_loss: 0.2231 - val_acc: 0.9643\n",
      "Epoch 128/130\n",
      "206s - loss: 0.0043 - acc: 0.9990 - val_loss: 0.0841 - val_acc: 0.9524\n",
      "Epoch 129/130\n",
      "206s - loss: 0.0044 - acc: 0.9989 - val_loss: 0.1660 - val_acc: 0.9762\n",
      "Epoch 130/130\n",
      "206s - loss: 0.0045 - acc: 0.9988 - val_loss: 0.0625 - val_acc: 0.9762\n",
      "Test score: 0.062549390273\n",
      "Test accuracy: 0.97619047619\n"
     ]
    }
   ],
   "source": [
    "from keras.utils import np_utils\n",
    "\n",
    "batch_size = 128\n",
    "nb_classes = 500\n",
    "nb_epoch = 10\n",
    "\n",
    "# number of convolutional filters to use\n",
    "nb_filters = 32\n",
    "# size of pooling area for max pooling\n",
    "pool_size = (2, 2)\n",
    "# convolution kernel size\n",
    "kernel_size = (3, 3)\n",
    "\n",
    "input_shape = (40,40,1)\n",
    "\n",
    "Y_train = np_utils.to_categorical(y_train, nb_classes)\n",
    "Y_test = np_utils.to_categorical(y_test, nb_classes)\n",
    "\n",
    "model.fit(X_train, Y_train, batch_size=batch_size, nb_epoch=130,\n",
    "          verbose=2, validation_data=(X_test, Y_test))\n",
    "score = model.evaluate(X_test, Y_test, verbose=0)\n",
    "print('Test score:', score[0])\n",
    "print('Test accuracy:', score[1])"
   ]
  },
  {
   "cell_type": "code",
   "execution_count": 25,
   "metadata": {
    "collapsed": true
   },
   "outputs": [],
   "source": [
    "model.save(\"4 conv with maxpool and batchnorm V2 200 epoch\")"
   ]
  },
  {
   "cell_type": "code",
   "execution_count": 7,
   "metadata": {
    "collapsed": false
   },
   "outputs": [],
   "source": [
    "from keras.datasets import mnist\n",
    "from keras.models import Sequential\n",
    "from keras.layers import Dense, Dropout, Activation, Flatten\n",
    "from keras.layers import Convolution2D, MaxPooling2D\n",
    "from keras.utils import np_utils\n",
    "from keras import backend as K\n",
    "import numpy as np"
   ]
  },
  {
   "cell_type": "code",
   "execution_count": 5,
   "metadata": {
    "collapsed": false
   },
   "outputs": [],
   "source": [
    "from keras.models import load_model\n",
    "\n",
    "\n",
    "model = load_model(\"./Models Architecture/mnist_cnn_architecture_first_sub\")"
   ]
  },
  {
   "cell_type": "code",
   "execution_count": 13,
   "metadata": {
    "collapsed": false
   },
   "outputs": [],
   "source": [
    "test = np.load('test.npy')"
   ]
  },
  {
   "cell_type": "code",
   "execution_count": 14,
   "metadata": {
    "collapsed": false,
    "scrolled": true
   },
   "outputs": [
    {
     "name": "stdout",
     "output_type": "stream",
     "text": [
      "0\n",
      "1000\n",
      "2000\n",
      "3000\n",
      "4000\n",
      "5000\n",
      "6000\n",
      "7000\n",
      "8000\n",
      "9000\n",
      "10000\n",
      "11000\n",
      "12000\n",
      "13000\n",
      "14000\n",
      "15000\n",
      "16000\n",
      "17000\n",
      "18000\n",
      "19000\n",
      "20000\n",
      "21000\n",
      "22000\n",
      "23000\n",
      "24000\n",
      "25000\n",
      "26000\n",
      "27000\n",
      "28000\n",
      "29000\n",
      "30000\n",
      "31000\n",
      "32000\n",
      "33000\n",
      "34000\n",
      "35000\n",
      "36000\n",
      "37000\n",
      "38000\n",
      "39000\n",
      "40000\n",
      "41000\n"
     ]
    }
   ],
   "source": [
    "import skimage.transform\n",
    "\n",
    "test_set = []\n",
    "i = 0\n",
    "for elem in test:\n",
    "    if i % 1000 == 0:\n",
    "        print(i)\n",
    "    test_set.append(skimage.transform.resize(elem, output_shape=(40,40)))\n",
    "    i += 1"
   ]
  },
  {
   "cell_type": "code",
   "execution_count": 15,
   "metadata": {
    "collapsed": false
   },
   "outputs": [],
   "source": [
    "test_set = np.array(test_set)"
   ]
  },
  {
   "cell_type": "code",
   "execution_count": 16,
   "metadata": {
    "collapsed": false
   },
   "outputs": [
    {
     "data": {
      "text/plain": [
       "(41428, 40, 40)"
      ]
     },
     "execution_count": 16,
     "metadata": {},
     "output_type": "execute_result"
    }
   ],
   "source": [
    "test_set.shape"
   ]
  },
  {
   "cell_type": "code",
   "execution_count": 16,
   "metadata": {
    "collapsed": true
   },
   "outputs": [],
   "source": [
    "test_set.resize((41428,40,40,1))"
   ]
  },
  {
   "cell_type": "code",
   "execution_count": 17,
   "metadata": {
    "collapsed": false
   },
   "outputs": [],
   "source": [
    "ans = model.predict_classes(test_set, verbose=0)"
   ]
  },
  {
   "cell_type": "code",
   "execution_count": 18,
   "metadata": {
    "collapsed": false
   },
   "outputs": [],
   "source": [
    "for i in range(len(ans)):\n",
    "    ans[i] = labels[ans[i]]"
   ]
  },
  {
   "cell_type": "code",
   "execution_count": 19,
   "metadata": {
    "collapsed": false
   },
   "outputs": [],
   "source": [
    "ans = pd.DataFrame(ans)"
   ]
  },
  {
   "cell_type": "code",
   "execution_count": 20,
   "metadata": {
    "collapsed": true
   },
   "outputs": [],
   "source": [
    "temp = [i+1 for i in range(len(test_set))]\n",
    "\n",
    "temp = pd.DataFrame(temp)"
   ]
  },
  {
   "cell_type": "code",
   "execution_count": 21,
   "metadata": {
    "collapsed": false
   },
   "outputs": [],
   "source": [
    "result = pd.concat([temp, ans], axis=1)"
   ]
  },
  {
   "cell_type": "code",
   "execution_count": 22,
   "metadata": {
    "collapsed": false
   },
   "outputs": [],
   "source": [
    "result.columns = ['Id', 'Category']"
   ]
  },
  {
   "cell_type": "code",
   "execution_count": 23,
   "metadata": {
    "collapsed": false
   },
   "outputs": [],
   "source": [
    "result = result.as_matrix()"
   ]
  },
  {
   "cell_type": "code",
   "execution_count": 24,
   "metadata": {
    "collapsed": false
   },
   "outputs": [],
   "source": [
    "import numpy\n",
    "numpy.savetxt(\"fifth_sub.csv\", result, delimiter=\",\")"
   ]
  }
 ],
 "metadata": {
  "kernelspec": {
   "display_name": "Python 3",
   "language": "python",
   "name": "python3"
  },
  "language_info": {
   "codemirror_mode": {
    "name": "ipython",
    "version": 3
   },
   "file_extension": ".py",
   "mimetype": "text/x-python",
   "name": "python",
   "nbconvert_exporter": "python",
   "pygments_lexer": "ipython3",
   "version": "3.5.2+"
  }
 },
 "nbformat": 4,
 "nbformat_minor": 2
}
